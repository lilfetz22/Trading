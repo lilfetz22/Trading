{
 "cells": [
  {
   "cell_type": "code",
   "execution_count": 2,
   "metadata": {},
   "outputs": [],
   "source": [
    "import pandas as pd\n",
    "import datetime"
   ]
  },
  {
   "cell_type": "code",
   "execution_count": 24,
   "metadata": {},
   "outputs": [
    {
     "name": "stderr",
     "output_type": "stream",
     "text": [
      "C:\\Users\\WilliamFetzner\\AppData\\Local\\Temp\\ipykernel_28416\\176450061.py:12: DeprecationWarning: cafile, capath and cadefault are deprecated, use a custom context instead.\n",
      "  response = urlopen(url, cafile=certifi.where())\n"
     ]
    },
    {
     "name": "stdout",
     "output_type": "stream",
     "text": [
      "317\n"
     ]
    }
   ],
   "source": [
    "# API_KEY = 'EPYIahBQ85aez1GlOfa3KGabAT4DEnnj'\n",
    "# #!/usr/bin/env python\n",
    "\n",
    "# # For Python 3.0 and later\n",
    "# from urllib.request import urlopen\n",
    "\n",
    "\n",
    "# import certifi\n",
    "# import json\n",
    "\n",
    "# def get_jsonparsed_data(url):\n",
    "#     response = urlopen(url, cafile=certifi.where())\n",
    "#     data = response.read().decode(\"utf-8\")\n",
    "#     return json.loads(data)\n",
    "\n",
    "# url = (f\"https://financialmodelingprep.com/api/v3/economic_calendar?from=2024-04-14&to=2024-04-20&apikey={API_KEY}\")\n",
    "# print(len(get_jsonparsed_data(url)))\n",
    "# jason_parsed_data = get_jsonparsed_data(url)\n"
   ]
  },
  {
   "cell_type": "code",
   "execution_count": 28,
   "metadata": {},
   "outputs": [
    {
     "name": "stdout",
     "output_type": "stream",
     "text": [
      "{'Low', 'Medium', 'High'}\n"
     ]
    }
   ],
   "source": [
    "# impact_types = []\n",
    "# for event in jason_parsed_data:\n",
    "#     impact_types.append(event['impact'])\n",
    "# print(set(impact_types))"
   ]
  },
  {
   "cell_type": "code",
   "execution_count": 32,
   "metadata": {},
   "outputs": [],
   "source": [
    "# dates = []\n",
    "# events = []\n",
    "# impacts = []\n",
    "# currencies = []\n",
    "# for event in jason_parsed_data:\n",
    "#     if ((event['currency'] == 'EUR') or (event['currency'] == 'USD')) & ((event['impact'] == 'High') or (event['impact'] == 'Medium')):\n",
    "#         dates.append(event['date'])\n",
    "#         events.append(event['event'])\n",
    "#         impacts.append(event['impact'])\n",
    "#         currencies.append(event['currency'])\n",
    "\n",
    "\n",
    "# df = pd.DataFrame({'date': dates, 'event': events, 'impact': impacts,'currency': currencies})\n",
    "# df.sort_values(by='date', inplace=True)\n",
    "# df"
   ]
  },
  {
   "cell_type": "code",
   "execution_count": 19,
   "metadata": {},
   "outputs": [
    {
     "data": {
      "text/plain": [
       "'C:/Users/WilliamFetzner/AppData/Roaming/MetaQuotes/Terminal/0C2BFA140CA8FBEFEDCADDDEDD61AA24/MQL4/Files/calendar_statement_2024_4_14.csv'"
      ]
     },
     "execution_count": 19,
     "metadata": {},
     "output_type": "execute_result"
    }
   ],
   "source": [
    "# import \"calendar_statement_\" + year + month + day + \".csv\" with year month and day being the date of last sunday\n",
    "# find the day  of the last sunday\n",
    "today = datetime.date.today()\n",
    "sunday = today# - datetime.timedelta(days=today.weekday() + 1)\n",
    "year = sunday.year\n",
    "month = sunday.month\n",
    "day = sunday.day\n",
    "# rename the file\n",
    "import os\n",
    "os.rename(\"C:/Users/WilliamFetzner/Downloads/calendar_statement.csv\", \n",
    "          \"C:/Users/WilliamFetzner/Downloads/calendar_statement_\" + str(year) + '_' + str(month) + '_' +  str(day) + \".csv\")\n",
    "# move the file from downloads to the correct location\n",
    "import shutil\n",
    "shutil.move(\"C:/Users/WilliamFetzner/Downloads/calendar_statement_\" + str(year) + '_' + str(month) + '_' +  str(day) + \".csv\", \n",
    "            \"C:/Users/WilliamFetzner/AppData/Roaming/MetaQuotes/Terminal/0C2BFA140CA8FBEFEDCADDDEDD61AA24/MQL4/Files/calendar_statement_\" + str(year) + '_' + str(month) + '_' +  str(day) + \".csv\")\n",
    "# import the file\n",
    "filename = \"C:/Users/WilliamFetzner/AppData/Roaming/MetaQuotes/Terminal/0C2BFA140CA8FBEFEDCADDDEDD61AA24/MQL4/Files/calendar_statement_\" + str(year) + '_' + str(month) + '_' +  str(day) + \".csv\"\n",
    "tester_location = \"C:/Users/WilliamFetzner/AppData/Roaming/MetaQuotes/Terminal/0C2BFA140CA8FBEFEDCADDDEDD61AA24/tester/files/calendar_statement_\" + str(year) + '_' + str(month) + '_' +  str(day) + \".csv\"\n",
    "df = pd.read_csv(filename)\n",
    "filename"
   ]
  },
  {
   "cell_type": "code",
   "execution_count": 20,
   "metadata": {},
   "outputs": [
    {
     "data": {
      "text/html": [
       "<div>\n",
       "<style scoped>\n",
       "    .dataframe tbody tr th:only-of-type {\n",
       "        vertical-align: middle;\n",
       "    }\n",
       "\n",
       "    .dataframe tbody tr th {\n",
       "        vertical-align: top;\n",
       "    }\n",
       "\n",
       "    .dataframe thead th {\n",
       "        text-align: right;\n",
       "    }\n",
       "</style>\n",
       "<table border=\"1\" class=\"dataframe\">\n",
       "  <thead>\n",
       "    <tr style=\"text-align: right;\">\n",
       "      <th></th>\n",
       "      <th>Date</th>\n",
       "      <th>Event</th>\n",
       "      <th>Impact</th>\n",
       "      <th>Currency</th>\n",
       "    </tr>\n",
       "  </thead>\n",
       "  <tbody>\n",
       "    <tr>\n",
       "      <th>0</th>\n",
       "      <td>2024.04.15 15:30:00</td>\n",
       "      <td>(United States) Retail Sales YoY</td>\n",
       "      <td>High</td>\n",
       "      <td>USD</td>\n",
       "    </tr>\n",
       "    <tr>\n",
       "      <th>1</th>\n",
       "      <td>2024.04.15 15:30:00</td>\n",
       "      <td>(United States) Retail Sales Ex Gas/Autos MoM</td>\n",
       "      <td>High</td>\n",
       "      <td>USD</td>\n",
       "    </tr>\n",
       "    <tr>\n",
       "      <th>2</th>\n",
       "      <td>2024.04.15 15:30:00</td>\n",
       "      <td>(United States) Retail Sales MoM</td>\n",
       "      <td>High</td>\n",
       "      <td>USD</td>\n",
       "    </tr>\n",
       "    <tr>\n",
       "      <th>3</th>\n",
       "      <td>2024.04.15 15:30:00</td>\n",
       "      <td>(United States) NY Empire State Manufacturing ...</td>\n",
       "      <td>High</td>\n",
       "      <td>USD</td>\n",
       "    </tr>\n",
       "    <tr>\n",
       "      <th>4</th>\n",
       "      <td>2024.04.15 15:30:00</td>\n",
       "      <td>(United States) Retail Sales Ex Autos MoM</td>\n",
       "      <td>High</td>\n",
       "      <td>USD</td>\n",
       "    </tr>\n",
       "    <tr>\n",
       "      <th>5</th>\n",
       "      <td>2024.04.16 12:00:00</td>\n",
       "      <td>(Germany) ZEW Economic Sentiment Index</td>\n",
       "      <td>High</td>\n",
       "      <td>EUR</td>\n",
       "    </tr>\n",
       "    <tr>\n",
       "      <th>6</th>\n",
       "      <td>2024.04.16 15:30:00</td>\n",
       "      <td>(United States) Building Permits</td>\n",
       "      <td>High</td>\n",
       "      <td>USD</td>\n",
       "    </tr>\n",
       "    <tr>\n",
       "      <th>7</th>\n",
       "      <td>2024.04.17 12:00:00</td>\n",
       "      <td>(Euro Area) CPI</td>\n",
       "      <td>High</td>\n",
       "      <td>EUR</td>\n",
       "    </tr>\n",
       "    <tr>\n",
       "      <th>8</th>\n",
       "      <td>2024.04.18 10:15:00</td>\n",
       "      <td>(Euro Area) ECB Guindos Speech</td>\n",
       "      <td>High</td>\n",
       "      <td>EUR</td>\n",
       "    </tr>\n",
       "    <tr>\n",
       "      <th>9</th>\n",
       "      <td>2024.04.18 15:30:00</td>\n",
       "      <td>(United States) Continuing Jobless Claims</td>\n",
       "      <td>High</td>\n",
       "      <td>USD</td>\n",
       "    </tr>\n",
       "    <tr>\n",
       "      <th>10</th>\n",
       "      <td>2024.04.18 15:30:00</td>\n",
       "      <td>(United States) Initial Jobless Claims</td>\n",
       "      <td>High</td>\n",
       "      <td>USD</td>\n",
       "    </tr>\n",
       "    <tr>\n",
       "      <th>11</th>\n",
       "      <td>2024.04.18 15:30:00</td>\n",
       "      <td>(United States) Jobless Claims 4-week Average</td>\n",
       "      <td>High</td>\n",
       "      <td>USD</td>\n",
       "    </tr>\n",
       "    <tr>\n",
       "      <th>12</th>\n",
       "      <td>2024.04.18 17:00:00</td>\n",
       "      <td>(United States) Existing Home Sales MoM</td>\n",
       "      <td>High</td>\n",
       "      <td>USD</td>\n",
       "    </tr>\n",
       "    <tr>\n",
       "      <th>13</th>\n",
       "      <td>2024.04.18 17:00:00</td>\n",
       "      <td>(United States) Existing Home Sales</td>\n",
       "      <td>High</td>\n",
       "      <td>USD</td>\n",
       "    </tr>\n",
       "  </tbody>\n",
       "</table>\n",
       "</div>"
      ],
      "text/plain": [
       "                   Date                                              Event  \\\n",
       "0   2024.04.15 15:30:00                   (United States) Retail Sales YoY   \n",
       "1   2024.04.15 15:30:00      (United States) Retail Sales Ex Gas/Autos MoM   \n",
       "2   2024.04.15 15:30:00                   (United States) Retail Sales MoM   \n",
       "3   2024.04.15 15:30:00  (United States) NY Empire State Manufacturing ...   \n",
       "4   2024.04.15 15:30:00          (United States) Retail Sales Ex Autos MoM   \n",
       "5   2024.04.16 12:00:00             (Germany) ZEW Economic Sentiment Index   \n",
       "6   2024.04.16 15:30:00                   (United States) Building Permits   \n",
       "7   2024.04.17 12:00:00                                    (Euro Area) CPI   \n",
       "8   2024.04.18 10:15:00                     (Euro Area) ECB Guindos Speech   \n",
       "9   2024.04.18 15:30:00          (United States) Continuing Jobless Claims   \n",
       "10  2024.04.18 15:30:00             (United States) Initial Jobless Claims   \n",
       "11  2024.04.18 15:30:00      (United States) Jobless Claims 4-week Average   \n",
       "12  2024.04.18 17:00:00            (United States) Existing Home Sales MoM   \n",
       "13  2024.04.18 17:00:00                (United States) Existing Home Sales   \n",
       "\n",
       "   Impact Currency  \n",
       "0    High      USD  \n",
       "1    High      USD  \n",
       "2    High      USD  \n",
       "3    High      USD  \n",
       "4    High      USD  \n",
       "5    High      EUR  \n",
       "6    High      USD  \n",
       "7    High      EUR  \n",
       "8    High      EUR  \n",
       "9    High      USD  \n",
       "10   High      USD  \n",
       "11   High      USD  \n",
       "12   High      USD  \n",
       "13   High      USD  "
      ]
     },
     "execution_count": 20,
     "metadata": {},
     "output_type": "execute_result"
    }
   ],
   "source": [
    "# convert the date to datetime from format \"YYYY, February 01, 00:00\"\n",
    "df['Date'] = pd.to_datetime(df['Date'], format='%Y, %B %d, %H:%M')\n",
    "# add 7 hrs to the date\n",
    "df['Date'] = df['Date'] + pd.Timedelta(hours=7)\n",
    "# tester location\n",
    "df.to_csv(tester_location, index=False)\n",
    "# convert Date into a string with the format: YYYY.MM.DD HH:MI:SS\n",
    "df['Date'] = df['Date'].dt.strftime('%Y.%m.%d %H:%M:%S')\n",
    "df"
   ]
  },
  {
   "cell_type": "code",
   "execution_count": 21,
   "metadata": {},
   "outputs": [],
   "source": [
    "# save the df back to the file\n",
    "df.to_csv(filename, index=False)"
   ]
  }
 ],
 "metadata": {
  "kernelspec": {
   "display_name": "Python 3",
   "language": "python",
   "name": "python3"
  },
  "language_info": {
   "codemirror_mode": {
    "name": "ipython",
    "version": 3
   },
   "file_extension": ".py",
   "mimetype": "text/x-python",
   "name": "python",
   "nbconvert_exporter": "python",
   "pygments_lexer": "ipython3",
   "version": "3.11.4"
  }
 },
 "nbformat": 4,
 "nbformat_minor": 2
}

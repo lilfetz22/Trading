{
 "cells": [
  {
   "cell_type": "code",
   "execution_count": 1,
   "metadata": {},
   "outputs": [],
   "source": [
    "import pandas as pd\n",
    "import datetime"
   ]
  },
  {
   "cell_type": "code",
   "execution_count": 6,
   "metadata": {},
   "outputs": [],
   "source": [
    "# import \"calendar_statement_\" + year + month + day + \".csv\" with year month and day being the date of last sunday\n",
    "# find the day  of the last sunday\n",
    "today = datetime.date.today()\n",
    "sunday = today - datetime.timedelta(days=today.weekday() + 1)\n",
    "year = sunday.year\n",
    "month = sunday.month\n",
    "day = sunday.day\n",
    "# import the file\n",
    "filename = \"C:/Users/WilliamFetzner/AppData/Roaming/MetaQuotes/Terminal/0C2BFA140CA8FBEFEDCADDDEDD61AA24/MQL4/Files/calendar_statement_\" + str(year) + '_' + str(month) + '_' +  str(day) + \".csv\"\n",
    "df = pd.read_csv(filename)"
   ]
  },
  {
   "cell_type": "code",
   "execution_count": null,
   "metadata": {},
   "outputs": [],
   "source": [
    "# convert the date to datetime from format \"YYYY, February 01, 00:00\"\n",
    "df['Date'] = pd.to_datetime(df['Date'], format='%Y, %B %d, %H:%M')\n",
    "# convert Date into a string with the format: YYYY.MM.DD HH:MI:SS\n",
    "df['Date'] = df['Date'].dt.strftime('%Y.%m.%d %H:%M:%S')\n",
    "df"
   ]
  },
  {
   "cell_type": "code",
   "execution_count": 8,
   "metadata": {},
   "outputs": [],
   "source": [
    "# save the df back to the file\n",
    "df.to_csv(filename, index=False)"
   ]
  }
 ],
 "metadata": {
  "kernelspec": {
   "display_name": "Python 3",
   "language": "python",
   "name": "python3"
  },
  "language_info": {
   "codemirror_mode": {
    "name": "ipython",
    "version": 3
   },
   "file_extension": ".py",
   "mimetype": "text/x-python",
   "name": "python",
   "nbconvert_exporter": "python",
   "pygments_lexer": "ipython3",
   "version": "3.11.4"
  }
 },
 "nbformat": 4,
 "nbformat_minor": 2
}

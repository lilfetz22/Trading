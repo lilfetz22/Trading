{
 "cells": [
  {
   "cell_type": "code",
   "execution_count": 1,
   "metadata": {},
   "outputs": [],
   "source": [
    "import numpy as np\n",
    "import matplotlib.pyplot as plt\n",
    "import pandas as pd\n",
    "from collections import deque\n",
    "import datetime as dt\n",
    "import mplfinance \n",
    "from renkodf import Renko\n",
    "from scipy.signal import lfilter\n",
    "import fx\n"
   ]
  },
  {
   "cell_type": "code",
   "execution_count": 3,
   "metadata": {},
   "outputs": [
    {
     "name": "stderr",
     "output_type": "stream",
     "text": [
      "c:\\Users\\WilliamFetzner\\AppData\\Local\\Programs\\Python\\Python311\\Lib\\site-packages\\openpyxl\\styles\\stylesheet.py:226: UserWarning: Workbook contains no default style, apply openpyxl's default\n",
      "  warn(\"Workbook contains no default style, apply openpyxl's default\")\n",
      "c:\\Users\\WilliamFetzner\\AppData\\Local\\Programs\\Python\\Python311\\Lib\\site-packages\\openpyxl\\styles\\stylesheet.py:226: UserWarning: Workbook contains no default style, apply openpyxl's default\n",
      "  warn(\"Workbook contains no default style, apply openpyxl's default\")\n"
     ]
    }
   ],
   "source": [
    "# collect the actual data from csv file\n",
    "filename2023 = \"C:/Users/WilliamFetzner/Documents/Trading/DAT_XLSX_EURUSD_M1_2023.xlsx\"\n",
    "filename2022 = \"C:/Users/WilliamFetzner/Documents/Trading/DAT_XLSX_EURUSD_M1_2022.xlsx\"\n",
    "\n",
    "df_2023 = pd.read_excel(filename2023, header=None, names=['datetime', 'open', 'high', 'low', 'close', 'volume'])\n",
    "df_2022 = pd.read_excel(filename2022, header=None, names=['datetime', 'open', 'high', 'low', 'close', 'volume'])"
   ]
  },
  {
   "cell_type": "code",
   "execution_count": null,
   "metadata": {},
   "outputs": [],
   "source": [
    "df_2022 = fx.prep_data(df_2022)\n",
    "df_2023 = fx.prep_data(df_2023)"
   ]
  },
  {
   "cell_type": "markdown",
   "metadata": {},
   "source": [
    "# Parameters"
   ]
  },
  {
   "cell_type": "code",
   "execution_count": 8,
   "metadata": {},
   "outputs": [],
   "source": [
    "# Renko variable\n",
    "initial_brick_size = 0.000325\n",
    "# create a list of possible brick sizes a max at 0.001 and min at 0.00001 and each step is 0.00001\n",
    "brick_size_list = np.arange(0.00001, 0.00101, 0.00001)\n",
    "\n",
    "# psar variables\n",
    "start = 0.02\n",
    "increment = 0.02\n",
    "increment_list = np.arange(0.001, 0.2001, 0.0001)\n",
    "maximum = 0.2\n",
    "max_list = np.arange(0.01, 0.501, 0.001)\n",
    "\n",
    "# impulse variables\n",
    "lengthMA = 34\n",
    "ma_list = np.arange(10, 100, 1)\n",
    "lengthSignal = 9\n",
    "signal_list = np.arange(1, 51, 1)\n",
    "\n",
    "# Lot Size\n",
    "lot_size = 10\n",
    "lot_sizes_list = np.arange(1, 21, 1)\n",
    "per_lot = 100000\n",
    "\n",
    "# Commissions\n",
    "nova_commission = lot_size * -3\n",
    "msolutions_commission = lot_size * -5\n",
    "\n",
    "# starting balance\n",
    "balance = 200000\n",
    "\n",
    "# base currency rate\n",
    "base_currency_rate = 0.045 # EUR\n",
    "quote_currency_rate = 0.055 # USD"
   ]
  },
  {
   "cell_type": "markdown",
   "metadata": {},
   "source": [
    "# Optimization"
   ]
  },
  {
   "cell_type": "code",
   "execution_count": null,
   "metadata": {},
   "outputs": [],
   "source": [
    "for brick_size in brick_size_list:# create a renko chart from the df_2022 dataframe\n",
    "    r_full_2022 = Renko(df_2022, brick_size=brick_size)\n",
    "    # create a new dataframe from the renko features\n",
    "    renko_full_data_2022 = r_full_2022.renko_df()\n",
    "    # rename 'volume' to 'nbars'\n",
    "    renko_full_data_2022 = renko_full_data_2022.rename(columns={'volume': 'nbars'})\n",
    "    r_2022_w_psar = fx.psar_from_data(renko_full_data_2022)"
   ]
  },
  {
   "cell_type": "code",
   "execution_count": null,
   "metadata": {},
   "outputs": [],
   "source": []
  }
 ],
 "metadata": {
  "kernelspec": {
   "display_name": "Python 3",
   "language": "python",
   "name": "python3"
  },
  "language_info": {
   "codemirror_mode": {
    "name": "ipython",
    "version": 3
   },
   "file_extension": ".py",
   "mimetype": "text/x-python",
   "name": "python",
   "nbconvert_exporter": "python",
   "pygments_lexer": "ipython3",
   "version": "3.11.4"
  }
 },
 "nbformat": 4,
 "nbformat_minor": 2
}

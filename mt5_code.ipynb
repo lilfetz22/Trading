{
 "cells": [
  {
   "cell_type": "code",
   "execution_count": 1,
   "metadata": {},
   "outputs": [
    {
     "name": "stdout",
     "output_type": "stream",
     "text": [
      "Note: you may need to restart the kernel to use updated packages.\n"
     ]
    },
    {
     "name": "stderr",
     "output_type": "stream",
     "text": [
      "ERROR: Could not find a version that satisfies the requirement MetaTrader4 (from versions: none)\n",
      "ERROR: No matching distribution found for MetaTrader4\n",
      "\n",
      "[notice] A new release of pip is available: 23.2.1 -> 23.3.2\n",
      "[notice] To update, run: python.exe -m pip install --upgrade pip\n"
     ]
    }
   ],
   "source": [
    "# %pip install yfinance\n",
    "# %pip install matplotlib\n",
    "# %pip install mplfinance\n",
    "# %pip install renkodf\n",
    "# %pip install commitizen\n",
    "# %pip install --upgrade MetaTrader5"
   ]
  },
  {
   "cell_type": "code",
   "execution_count": 1,
   "metadata": {},
   "outputs": [],
   "source": [
    "import numpy as np\n",
    "import matplotlib.pyplot as plt\n",
    "import pandas as pd\n",
    "from collections import deque\n",
    "import datetime as dt\n",
    "import mplfinance \n",
    "from renkodf import Renko\n",
    "from scipy.signal import lfilter\n",
    "import MetaTrader5 as mt5"
   ]
  },
  {
   "cell_type": "code",
   "execution_count": 1,
   "metadata": {},
   "outputs": [
    {
     "name": "stdout",
     "output_type": "stream",
     "text": [
      "MetaTrader5 package author:  MetaQuotes Ltd.\n",
      "MetaTrader5 package version:  5.0.45\n",
      "initialize() failed, error code = (-10003, \"IPC initialize failed, Pipe server didn't answer in 60 sec\")\n",
      "(0, 0, '')\n"
     ]
    },
    {
     "ename": "",
     "evalue": "",
     "output_type": "error",
     "traceback": [
      "\u001b[1;31mThe Kernel crashed while executing code in the the current cell or a previous cell. Please review the code in the cell(s) to identify a possible cause of the failure. Click <a href='https://aka.ms/vscodeJupyterKernelCrash'>here</a> for more info. View Jupyter <a href='command:jupyter.viewOutput'>log</a> for further details."
     ]
    }
   ],
   "source": [
    "import MetaTrader5 as mt5\n",
    "# display data on the MetaTrader 5 package\n",
    "print(\"MetaTrader5 package author: \",mt5.__author__)\n",
    "print(\"MetaTrader5 package version: \",mt5.__version__)\n",
    " \n",
    "acct_nbr = 2028452\n",
    "pw = 'AQi2wDh_LP'\n",
    "server = 'ForeignExchangeClearingHouse-Demo'\n",
    "\n",
    "# establish connection to the MetaTrader 5 terminal\n",
    "if not mt5.initialize(path = \"C:/Program Files (x86)/MetaTrader FXCH/terminal.exe\", login=acct_nbr, password=pw, server=server):\n",
    "    print(\"initialize() failed, error code =\",mt5.last_error())\n",
    "    quit()\n",
    " \n",
    "# display data on MetaTrader 5 version\n",
    "print(mt5.version())\n",
    "# # connect to the trade account without specifying a password and a server\n",
    "# account=\n",
    "# authorized=mt5.login(account)  # the terminal database password is applied if connection data is set to be remembered\n",
    "# if authorized:\n",
    "#     print(\"connected to account #{}\".format(account))\n",
    "# else:\n",
    "#     print(\"failed to connect at account #{}, error code: {}\".format(account, mt5.last_error()))\n"
   ]
  },
  {
   "cell_type": "code",
   "execution_count": null,
   "metadata": {},
   "outputs": [],
   "source": [
    "# now connect to another trading account specifying the password\n",
    "account=25115284\n",
    "authorized=mt5.login(account, password=\"gqrtz0lbdm\")\n",
    "if authorized:\n",
    "    # display trading account data 'as is'\n",
    "    print(mt5.account_info())\n",
    "    # display trading account data in the form of a list\n",
    "    print(\"Show account_info()._asdict():\")\n",
    "    account_info_dict = mt5.account_info()._asdict()\n",
    "    for prop in account_info_dict:\n",
    "        print(\"  {}={}\".format(prop, account_info_dict[prop]))\n",
    "else:\n",
    "    print(\"failed to connect at account #{}, error code: {}\".format(account, mt5.last_error()))\n",
    " \n",
    "# shut down connection to the MetaTrader 5 terminal\n",
    "mt5.shutdown()"
   ]
  }
 ],
 "metadata": {
  "kernelspec": {
   "display_name": "Python 3",
   "language": "python",
   "name": "python3"
  },
  "language_info": {
   "codemirror_mode": {
    "name": "ipython",
    "version": 3
   },
   "file_extension": ".py",
   "mimetype": "text/x-python",
   "name": "python",
   "nbconvert_exporter": "python",
   "pygments_lexer": "ipython3",
   "version": "3.11.4"
  }
 },
 "nbformat": 4,
 "nbformat_minor": 2
}

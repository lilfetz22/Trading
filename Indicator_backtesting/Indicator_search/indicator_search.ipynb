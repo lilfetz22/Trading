{
 "cells": [
  {
   "cell_type": "code",
   "execution_count": 3,
   "metadata": {},
   "outputs": [],
   "source": [
    "# %pip install backtesting pandas numpy matplotlib"
   ]
  },
  {
   "cell_type": "code",
   "execution_count": null,
   "metadata": {},
   "outputs": [],
   "source": [
    "# %pip install"
   ]
  },
  {
   "cell_type": "code",
   "execution_count": null,
   "metadata": {},
   "outputs": [],
   "source": [
    "import pandas as pd\n",
    "from backtesting import Backtest, Strategy\n",
    "\n",
    "# Load your data\n",
    "data = pd.read_csv('your_data.csv', index_col='Date', parse_dates=True)"
   ]
  },
  {
   "cell_type": "code",
   "execution_count": null,
   "metadata": {},
   "outputs": [],
   "source": [
    "class MyRealisticStrategy(Strategy):\n",
    "    def init(self):\n",
    "        # Load news events and swap rates\n",
    "        self.news_events = pd.read_csv('news_events.csv', parse_dates=['Date'])\n",
    "        self.news_events.set_index('Date', inplace=True)\n",
    "        self.swap_rates = pd.read_csv('swap_rates.csv', parse_dates=['Date'])\n",
    "        self.swap_rates.set_index('Date', inplace=True)\n",
    "\n",
    "    def _open_position(self, signal, size, limit=None, stop=None, sl=None, tp=None):\n",
    "        price = self.data.Close[-1]\n",
    "        spread = 0.0002  # Adjust based on your typical spread\n",
    "        if signal == 1:\n",
    "            price += spread / 2\n",
    "        else:\n",
    "            price -= spread / 2\n",
    "        return super()._open_position(signal, size, price, stop, sl, tp)\n",
    "\n",
    "    def next(self):\n",
    "        current_date = self.data.index[-1]\n",
    "\n",
    "        # Check for news events\n",
    "        if current_date in self.news_events.index:\n",
    "            return\n",
    "\n",
    "        # Check swap rates\n",
    "        if current_date in self.swap_rates.index:\n",
    "            swap_rate = self.swap_rates.loc[current_date, 'SwapRate']\n",
    "            if swap_rate < 0:\n",
    "                return\n",
    "\n",
    "        # Your regular trading logic here"
   ]
  },
  {
   "cell_type": "code",
   "execution_count": null,
   "metadata": {},
   "outputs": [],
   "source": [
    "bt = Backtest(data, MyRealisticStrategy, cash=10000, commission=.002)\n",
    "stats = bt.run()"
   ]
  }
 ],
 "metadata": {
  "kernelspec": {
   "display_name": "indicatorSearch",
   "language": "python",
   "name": "python3"
  },
  "language_info": {
   "codemirror_mode": {
    "name": "ipython",
    "version": 3
   },
   "file_extension": ".py",
   "mimetype": "text/x-python",
   "name": "python",
   "nbconvert_exporter": "python",
   "pygments_lexer": "ipython3",
   "version": "3.11.4"
  }
 },
 "nbformat": 4,
 "nbformat_minor": 2
}

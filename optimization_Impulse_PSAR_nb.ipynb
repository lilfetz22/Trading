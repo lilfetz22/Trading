{
 "cells": [
  {
   "cell_type": "code",
   "execution_count": 4,
   "metadata": {},
   "outputs": [],
   "source": [
    "import numpy as np\n",
    "import matplotlib.pyplot as plt\n",
    "import pandas as pd\n",
    "from collections import deque\n",
    "import datetime as dt\n",
    "import mplfinance \n",
    "from renkodf import Renko\n",
    "from scipy.signal import lfilter\n",
    "import fx\n"
   ]
  },
  {
   "cell_type": "code",
   "execution_count": null,
   "metadata": {},
   "outputs": [],
   "source": [
    "# collect the actual data from csv file\n",
    "filename = \"C:/Users/WilliamFetzner/Downloads/HISTDATA_COM_XLSX_EURUSD_M12023/DAT_XLSX_EURUSD_M1_2023.xlsx\"\n",
    "df = pd.read_excel(filename, header=None, names=['datetime', 'open', 'high', 'low', 'close', 'volume'])\n",
    "df.head(10)"
   ]
  }
 ],
 "metadata": {
  "kernelspec": {
   "display_name": "Python 3",
   "language": "python",
   "name": "python3"
  },
  "language_info": {
   "codemirror_mode": {
    "name": "ipython",
    "version": 3
   },
   "file_extension": ".py",
   "mimetype": "text/x-python",
   "name": "python",
   "nbconvert_exporter": "python",
   "pygments_lexer": "ipython3",
   "version": "3.11.4"
  }
 },
 "nbformat": 4,
 "nbformat_minor": 2
}

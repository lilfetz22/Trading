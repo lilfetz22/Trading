{
 "cells": [
  {
   "cell_type": "code",
   "execution_count": 1,
   "metadata": {},
   "outputs": [],
   "source": [
    "import numpy as np\n",
    "import matplotlib.pyplot as plt\n",
    "import pandas as pd\n",
    "from collections import deque\n",
    "import datetime as dt\n",
    "import mplfinance \n",
    "from renkodf import Renko\n",
    "from scipy.signal import lfilter\n",
    "import fx\n"
   ]
  },
  {
   "cell_type": "code",
   "execution_count": 3,
   "metadata": {},
   "outputs": [
    {
     "name": "stderr",
     "output_type": "stream",
     "text": [
      "c:\\Users\\WilliamFetzner\\AppData\\Local\\Programs\\Python\\Python311\\Lib\\site-packages\\openpyxl\\styles\\stylesheet.py:226: UserWarning: Workbook contains no default style, apply openpyxl's default\n",
      "  warn(\"Workbook contains no default style, apply openpyxl's default\")\n",
      "c:\\Users\\WilliamFetzner\\AppData\\Local\\Programs\\Python\\Python311\\Lib\\site-packages\\openpyxl\\styles\\stylesheet.py:226: UserWarning: Workbook contains no default style, apply openpyxl's default\n",
      "  warn(\"Workbook contains no default style, apply openpyxl's default\")\n"
     ]
    }
   ],
   "source": [
    "# collect the actual data from csv file\n",
    "filename2023 = \"C:/Users/WilliamFetzner/Documents/Trading/DAT_XLSX_EURUSD_M1_2023.xlsx\"\n",
    "filename2022 = \"C:/Users/WilliamFetzner/Documents/Trading/DAT_XLSX_EURUSD_M1_2022.xlsx\"\n",
    "\n",
    "df_2023 = pd.read_excel(filename2023, header=None, names=['datetime', 'open', 'high', 'low', 'close', 'volume'])\n",
    "df_2022 = pd.read_excel(filename2022, header=None, names=['datetime', 'open', 'high', 'low', 'close', 'volume'])"
   ]
  },
  {
   "cell_type": "code",
   "execution_count": null,
   "metadata": {},
   "outputs": [],
   "source": [
    "df_2022 = fx.prep_data(df_2022)\n",
    "df_2023 = fx.prep_data(df_2023)"
   ]
  },
  {
   "cell_type": "markdown",
   "metadata": {},
   "source": [
    "# Parameters"
   ]
  },
  {
   "cell_type": "code",
   "execution_count": 8,
   "metadata": {},
   "outputs": [],
   "source": [
    "# Renko variable\n",
    "initial_brick_size = 0.000325\n",
    "# create a list of possible brick sizes a max at 0.001 and min at 0.00001 and each step is 0.00001\n",
    "brick_size_list = np.arange(0.00001, 0.00101, 0.00001)\n",
    "\n",
    "# psar variables\n",
    "start = 0.02\n",
    "increment = 0.02\n",
    "increment_list = np.arange(0.001, 0.2001, 0.0001)\n",
    "maximum = 0.2\n",
    "max_list = np.arange(0.01, 0.501, 0.001)\n",
    "\n",
    "# impulse variables\n",
    "lengthMA = 34\n",
    "ma_list = np.arange(10, 100, 1)\n",
    "lengthSignal = 9\n",
    "signal_list = np.arange(1, 51, 1)\n",
    "\n",
    "# Lot Size\n",
    "lot_size = 10\n",
    "lot_sizes_list = np.arange(1, 21, 1)\n",
    "per_lot = 100000\n",
    "\n",
    "# Commissions\n",
    "nova_commission = lot_size * -3\n",
    "msolutions_commission = lot_size * -5\n",
    "\n",
    "# starting balance\n",
    "balance = 200000\n",
    "\n",
    "# base currency rate\n",
    "base_currency_rate = 0.045 # EUR\n",
    "quote_currency_rate = 0.055 # USD"
   ]
  },
  {
   "cell_type": "code",
   "execution_count": 9,
   "metadata": {},
   "outputs": [
    {
     "data": {
      "text/plain": [
       "array([1.0e-05, 2.0e-05, 3.0e-05, 4.0e-05, 5.0e-05, 6.0e-05, 7.0e-05,\n",
       "       8.0e-05, 9.0e-05, 1.0e-04, 1.1e-04, 1.2e-04, 1.3e-04, 1.4e-04,\n",
       "       1.5e-04, 1.6e-04, 1.7e-04, 1.8e-04, 1.9e-04, 2.0e-04, 2.1e-04,\n",
       "       2.2e-04, 2.3e-04, 2.4e-04, 2.5e-04, 2.6e-04, 2.7e-04, 2.8e-04,\n",
       "       2.9e-04, 3.0e-04, 3.1e-04, 3.2e-04, 3.3e-04, 3.4e-04, 3.5e-04,\n",
       "       3.6e-04, 3.7e-04, 3.8e-04, 3.9e-04, 4.0e-04, 4.1e-04, 4.2e-04,\n",
       "       4.3e-04, 4.4e-04, 4.5e-04, 4.6e-04, 4.7e-04, 4.8e-04, 4.9e-04,\n",
       "       5.0e-04, 5.1e-04, 5.2e-04, 5.3e-04, 5.4e-04, 5.5e-04, 5.6e-04,\n",
       "       5.7e-04, 5.8e-04, 5.9e-04, 6.0e-04, 6.1e-04, 6.2e-04, 6.3e-04,\n",
       "       6.4e-04, 6.5e-04, 6.6e-04, 6.7e-04, 6.8e-04, 6.9e-04, 7.0e-04,\n",
       "       7.1e-04, 7.2e-04, 7.3e-04, 7.4e-04, 7.5e-04, 7.6e-04, 7.7e-04,\n",
       "       7.8e-04, 7.9e-04, 8.0e-04, 8.1e-04, 8.2e-04, 8.3e-04, 8.4e-04,\n",
       "       8.5e-04, 8.6e-04, 8.7e-04, 8.8e-04, 8.9e-04, 9.0e-04, 9.1e-04,\n",
       "       9.2e-04, 9.3e-04, 9.4e-04, 9.5e-04, 9.6e-04, 9.7e-04, 9.8e-04,\n",
       "       9.9e-04, 1.0e-03])"
      ]
     },
     "execution_count": 9,
     "metadata": {},
     "output_type": "execute_result"
    }
   ],
   "source": [
    "brick_sizes"
   ]
  },
  {
   "cell_type": "markdown",
   "metadata": {},
   "source": [
    "# Optimization"
   ]
  },
  {
   "cell_type": "code",
   "execution_count": null,
   "metadata": {},
   "outputs": [],
   "source": [
    "# create a renko chart from the df_2022 dataframe\n",
    "r_full_2022 = Renko(df_2022, brick_size=brick_size)\n",
    "# create a new dataframe from the renko features\n",
    "renko_full_data_2022 = r_full_2022.renko_df()\n",
    "# rename 'volume' to 'nbars'\n",
    "renko_full_data_2022 = renko_full_data_2022.rename(columns={'volume': 'nbars'})\n",
    "r_2022_w_psar = fx.psar_from_data(renko_full_data_2022)\n",
    "r_2023_w_psar = fx.psar_from_data(renko_full_data_2023)"
   ]
  },
  {
   "cell_type": "code",
   "execution_count": null,
   "metadata": {},
   "outputs": [],
   "source": []
  }
 ],
 "metadata": {
  "kernelspec": {
   "display_name": "Python 3",
   "language": "python",
   "name": "python3"
  },
  "language_info": {
   "codemirror_mode": {
    "name": "ipython",
    "version": 3
   },
   "file_extension": ".py",
   "mimetype": "text/x-python",
   "name": "python",
   "nbconvert_exporter": "python",
   "pygments_lexer": "ipython3",
   "version": "3.11.4"
  }
 },
 "nbformat": 4,
 "nbformat_minor": 2
}

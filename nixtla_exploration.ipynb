{
 "cells": [
  {
   "cell_type": "code",
   "execution_count": 22,
   "metadata": {},
   "outputs": [
    {
     "name": "stdout",
     "output_type": "stream",
     "text": [
      "Requirement already satisfied: mlforecast in c:\\users\\williamfetzner\\appdata\\local\\programs\\python\\python311\\lib\\site-packages (0.13.3)Note: you may need to restart the kernel to use updated packages.\n",
      "\n",
      "Requirement already satisfied: polars in c:\\users\\williamfetzner\\appdata\\local\\programs\\python\\python311\\lib\\site-packages (1.4.1)\n",
      "Collecting statsforecast\n",
      "  Downloading statsforecast-1.7.6-py3-none-any.whl.metadata (28 kB)\n",
      "Requirement already satisfied: cloudpickle in c:\\users\\williamfetzner\\appdata\\local\\programs\\python\\python311\\lib\\site-packages (from mlforecast) (3.0.0)\n",
      "Requirement already satisfied: coreforecast>=0.0.11 in c:\\users\\williamfetzner\\appdata\\local\\programs\\python\\python311\\lib\\site-packages (from mlforecast) (0.0.12)\n",
      "Requirement already satisfied: fsspec in c:\\users\\williamfetzner\\appdata\\local\\programs\\python\\python311\\lib\\site-packages (from mlforecast) (2023.6.0)\n",
      "Requirement already satisfied: numba in c:\\users\\williamfetzner\\appdata\\local\\programs\\python\\python311\\lib\\site-packages (from mlforecast) (0.57.1)\n",
      "Requirement already satisfied: optuna in c:\\users\\williamfetzner\\appdata\\local\\programs\\python\\python311\\lib\\site-packages (from mlforecast) (3.6.1)\n",
      "Requirement already satisfied: packaging in c:\\users\\williamfetzner\\appdata\\local\\programs\\python\\python311\\lib\\site-packages (from mlforecast) (23.1)\n",
      "Requirement already satisfied: pandas in c:\\users\\williamfetzner\\appdata\\local\\programs\\python\\python311\\lib\\site-packages (from mlforecast) (2.0.3)\n",
      "Requirement already satisfied: scikit-learn in c:\\users\\williamfetzner\\appdata\\local\\programs\\python\\python311\\lib\\site-packages (from mlforecast) (1.3.0)\n",
      "Requirement already satisfied: utilsforecast>=0.1.9 in c:\\users\\williamfetzner\\appdata\\local\\programs\\python\\python311\\lib\\site-packages (from mlforecast) (0.2.3)\n",
      "Requirement already satisfied: window-ops in c:\\users\\williamfetzner\\appdata\\local\\programs\\python\\python311\\lib\\site-packages (from mlforecast) (0.0.15)\n",
      "Requirement already satisfied: numpy>=1.21.6 in c:\\users\\williamfetzner\\appdata\\local\\programs\\python\\python311\\lib\\site-packages (from statsforecast) (1.24.4)\n",
      "Requirement already satisfied: scipy>=1.7.3 in c:\\users\\williamfetzner\\appdata\\local\\programs\\python\\python311\\lib\\site-packages (from statsforecast) (1.12.0)\n",
      "Requirement already satisfied: statsmodels>=0.13.2 in c:\\users\\williamfetzner\\appdata\\local\\programs\\python\\python311\\lib\\site-packages (from statsforecast) (0.14.2)\n",
      "Requirement already satisfied: tqdm in c:\\users\\williamfetzner\\appdata\\local\\programs\\python\\python311\\lib\\site-packages (from statsforecast) (4.65.0)\n",
      "Collecting fugue>=0.8.1 (from statsforecast)\n",
      "  Downloading fugue-0.9.1-py3-none-any.whl.metadata (18 kB)\n",
      "Requirement already satisfied: threadpoolctl in c:\\users\\williamfetzner\\appdata\\local\\programs\\python\\python311\\lib\\site-packages (from statsforecast) (3.2.0)\n",
      "Collecting triad>=0.9.7 (from fugue>=0.8.1->statsforecast)\n",
      "  Downloading triad-0.9.8-py3-none-any.whl.metadata (6.3 kB)\n",
      "Collecting adagio>=0.2.4 (from fugue>=0.8.1->statsforecast)\n",
      "  Downloading adagio-0.2.4-py3-none-any.whl.metadata (1.8 kB)\n",
      "Requirement already satisfied: llvmlite<0.41,>=0.40.0dev0 in c:\\users\\williamfetzner\\appdata\\local\\programs\\python\\python311\\lib\\site-packages (from numba->mlforecast) (0.40.1)\n",
      "Requirement already satisfied: python-dateutil>=2.8.2 in c:\\users\\williamfetzner\\appdata\\local\\programs\\python\\python311\\lib\\site-packages (from pandas->mlforecast) (2.8.2)\n",
      "Requirement already satisfied: pytz>=2020.1 in c:\\users\\williamfetzner\\appdata\\local\\programs\\python\\python311\\lib\\site-packages (from pandas->mlforecast) (2023.3)\n",
      "Requirement already satisfied: tzdata>=2022.1 in c:\\users\\williamfetzner\\appdata\\local\\programs\\python\\python311\\lib\\site-packages (from pandas->mlforecast) (2023.3)\n",
      "Requirement already satisfied: patsy>=0.5.6 in c:\\users\\williamfetzner\\appdata\\local\\programs\\python\\python311\\lib\\site-packages (from statsmodels>=0.13.2->statsforecast) (0.5.6)\n",
      "Requirement already satisfied: alembic>=1.5.0 in c:\\users\\williamfetzner\\appdata\\local\\programs\\python\\python311\\lib\\site-packages (from optuna->mlforecast) (1.13.2)\n",
      "Requirement already satisfied: colorlog in c:\\users\\williamfetzner\\appdata\\local\\programs\\python\\python311\\lib\\site-packages (from optuna->mlforecast) (6.8.2)\n",
      "Requirement already satisfied: sqlalchemy>=1.3.0 in c:\\users\\williamfetzner\\appdata\\local\\programs\\python\\python311\\lib\\site-packages (from optuna->mlforecast) (2.0.19)\n",
      "Requirement already satisfied: PyYAML in c:\\users\\williamfetzner\\appdata\\local\\programs\\python\\python311\\lib\\site-packages (from optuna->mlforecast) (6.0)\n",
      "Requirement already satisfied: joblib>=1.1.1 in c:\\users\\williamfetzner\\appdata\\local\\programs\\python\\python311\\lib\\site-packages (from scikit-learn->mlforecast) (1.3.2)\n",
      "Requirement already satisfied: colorama in c:\\users\\williamfetzner\\appdata\\local\\programs\\python\\python311\\lib\\site-packages (from tqdm->statsforecast) (0.4.6)\n",
      "Requirement already satisfied: Mako in c:\\users\\williamfetzner\\appdata\\local\\programs\\python\\python311\\lib\\site-packages (from alembic>=1.5.0->optuna->mlforecast) (1.3.5)\n",
      "Requirement already satisfied: typing-extensions>=4 in c:\\users\\williamfetzner\\appdata\\local\\programs\\python\\python311\\lib\\site-packages (from alembic>=1.5.0->optuna->mlforecast) (4.12.2)\n",
      "Requirement already satisfied: six in c:\\users\\williamfetzner\\appdata\\local\\programs\\python\\python311\\lib\\site-packages (from patsy>=0.5.6->statsmodels>=0.13.2->statsforecast) (1.16.0)\n",
      "Requirement already satisfied: greenlet!=0.4.17 in c:\\users\\williamfetzner\\appdata\\local\\programs\\python\\python311\\lib\\site-packages (from sqlalchemy>=1.3.0->optuna->mlforecast) (2.0.2)\n",
      "Requirement already satisfied: pyarrow>=6.0.1 in c:\\users\\williamfetzner\\appdata\\local\\programs\\python\\python311\\lib\\site-packages (from triad>=0.9.7->fugue>=0.8.1->statsforecast) (12.0.1)\n",
      "Collecting fs (from triad>=0.9.7->fugue>=0.8.1->statsforecast)\n",
      "  Downloading fs-2.4.16-py2.py3-none-any.whl.metadata (6.3 kB)\n",
      "Requirement already satisfied: appdirs~=1.4.3 in c:\\users\\williamfetzner\\appdata\\local\\programs\\python\\python311\\lib\\site-packages (from fs->triad>=0.9.7->fugue>=0.8.1->statsforecast) (1.4.4)\n",
      "Requirement already satisfied: setuptools in c:\\users\\williamfetzner\\appdata\\local\\programs\\python\\python311\\lib\\site-packages (from fs->triad>=0.9.7->fugue>=0.8.1->statsforecast) (70.1.0)\n",
      "Requirement already satisfied: MarkupSafe>=0.9.2 in c:\\users\\williamfetzner\\appdata\\local\\programs\\python\\python311\\lib\\site-packages (from Mako->alembic>=1.5.0->optuna->mlforecast) (2.1.3)\n",
      "Downloading statsforecast-1.7.6-py3-none-any.whl (134 kB)\n",
      "Downloading fugue-0.9.1-py3-none-any.whl (278 kB)\n",
      "Downloading adagio-0.2.4-py3-none-any.whl (26 kB)\n",
      "Downloading triad-0.9.8-py3-none-any.whl (62 kB)\n",
      "Downloading fs-2.4.16-py2.py3-none-any.whl (135 kB)\n",
      "Installing collected packages: fs, triad, adagio, fugue, statsforecast\n",
      "Successfully installed adagio-0.2.4 fs-2.4.16 fugue-0.9.1 statsforecast-1.7.6 triad-0.9.8\n"
     ]
    }
   ],
   "source": [
    "%pip install mlforecast polars statsforecast"
   ]
  },
  {
   "cell_type": "code",
   "execution_count": 23,
   "metadata": {},
   "outputs": [],
   "source": [
    "import mlforecast\n",
    "import polars as pl\n",
    "from datetime import datetime\n",
    "import pandas as pd\n",
    "from statsforecast import StatsForecast\n"
   ]
  },
  {
   "cell_type": "code",
   "execution_count": 21,
   "metadata": {},
   "outputs": [
    {
     "data": {
      "text/html": [
       "<div><style>\n",
       ".dataframe > thead > tr,\n",
       ".dataframe > tbody > tr {\n",
       "  text-align: right;\n",
       "  white-space: pre-wrap;\n",
       "}\n",
       "</style>\n",
       "<small>shape: (50_087, 3)</small><table border=\"1\" class=\"dataframe\"><thead><tr><th>unique_id</th><th>Time</th><th>Close</th></tr><tr><td>str</td><td>datetime[μs]</td><td>f64</td></tr></thead><tbody><tr><td>&quot;EURUSD&quot;</td><td>2016-08-01 03:00:00</td><td>1.1175</td></tr><tr><td>&quot;EURUSD&quot;</td><td>2016-08-01 04:00:00</td><td>1.11719</td></tr><tr><td>&quot;EURUSD&quot;</td><td>2016-08-01 05:00:00</td><td>1.11709</td></tr><tr><td>&quot;EURUSD&quot;</td><td>2016-08-01 06:00:00</td><td>1.11785</td></tr><tr><td>&quot;EURUSD&quot;</td><td>2016-08-01 07:00:00</td><td>1.11794</td></tr><tr><td>&hellip;</td><td>&hellip;</td><td>&hellip;</td></tr><tr><td>&quot;EURUSD&quot;</td><td>2024-08-09 19:00:00</td><td>1.09186</td></tr><tr><td>&quot;EURUSD&quot;</td><td>2024-08-09 20:00:00</td><td>1.09206</td></tr><tr><td>&quot;EURUSD&quot;</td><td>2024-08-09 21:00:00</td><td>1.09195</td></tr><tr><td>&quot;EURUSD&quot;</td><td>2024-08-09 22:00:00</td><td>1.09187</td></tr><tr><td>&quot;EURUSD&quot;</td><td>2024-08-09 23:00:00</td><td>1.09167</td></tr></tbody></table></div>"
      ],
      "text/plain": [
       "shape: (50_087, 3)\n",
       "┌───────────┬─────────────────────┬─────────┐\n",
       "│ unique_id ┆ Time                ┆ Close   │\n",
       "│ ---       ┆ ---                 ┆ ---     │\n",
       "│ str       ┆ datetime[μs]        ┆ f64     │\n",
       "╞═══════════╪═════════════════════╪═════════╡\n",
       "│ EURUSD    ┆ 2016-08-01 03:00:00 ┆ 1.1175  │\n",
       "│ EURUSD    ┆ 2016-08-01 04:00:00 ┆ 1.11719 │\n",
       "│ EURUSD    ┆ 2016-08-01 05:00:00 ┆ 1.11709 │\n",
       "│ EURUSD    ┆ 2016-08-01 06:00:00 ┆ 1.11785 │\n",
       "│ EURUSD    ┆ 2016-08-01 07:00:00 ┆ 1.11794 │\n",
       "│ …         ┆ …                   ┆ …       │\n",
       "│ EURUSD    ┆ 2024-08-09 19:00:00 ┆ 1.09186 │\n",
       "│ EURUSD    ┆ 2024-08-09 20:00:00 ┆ 1.09206 │\n",
       "│ EURUSD    ┆ 2024-08-09 21:00:00 ┆ 1.09195 │\n",
       "│ EURUSD    ┆ 2024-08-09 22:00:00 ┆ 1.09187 │\n",
       "│ EURUSD    ┆ 2024-08-09 23:00:00 ┆ 1.09167 │\n",
       "└───────────┴─────────────────────┴─────────┘"
      ]
     },
     "execution_count": 21,
     "metadata": {},
     "output_type": "execute_result"
    }
   ],
   "source": [
    "q = (\n",
    "    pl.scan_csv('EURUSD_full_tickstory_data_hourly.csv')\n",
    "    # convert 'Time' to datetime\n",
    "    .with_columns([\n",
    "        # add a unique_id col which will be 'EURUSD' as a string\n",
    "        pl.lit('EURUSD').alias('unique_id').cast(pl.Utf8),\n",
    "        pl.col('Time').map_elements(lambda x: datetime.strptime(x, '%Y-%m-%d %H:%M:%S+00:00'), pl.Datetime),\n",
    "        pl.col('Close').cast(pl.Float64)       \n",
    "    ])\n",
    "    # sort by 'Time'\n",
    "   .sort('Time')\n",
    "   .select(pl.col('unique_id', 'Time', 'Close'))\n",
    "    )\n",
    "df = q.collect()\n",
    "df"
   ]
  },
  {
   "cell_type": "code",
   "execution_count": null,
   "metadata": {},
   "outputs": [],
   "source": []
  }
 ],
 "metadata": {
  "kernelspec": {
   "display_name": "Python 3",
   "language": "python",
   "name": "python3"
  },
  "language_info": {
   "codemirror_mode": {
    "name": "ipython",
    "version": 3
   },
   "file_extension": ".py",
   "mimetype": "text/x-python",
   "name": "python",
   "nbconvert_exporter": "python",
   "pygments_lexer": "ipython3",
   "version": "3.11.4"
  }
 },
 "nbformat": 4,
 "nbformat_minor": 2
}
